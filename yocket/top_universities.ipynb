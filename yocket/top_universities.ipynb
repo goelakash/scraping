{
 "cells": [
  {
   "cell_type": "code",
   "execution_count": 1,
   "metadata": {},
   "outputs": [],
   "source": [
    "import requests\n",
    "from bs4 import BeautifulSoup"
   ]
  },
  {
   "cell_type": "code",
   "execution_count": 62,
   "metadata": {},
   "outputs": [],
   "source": [
    "URL_TOP_25 = \"https://yocket.in/universities/masters-in-computer-science-engineering/top-25\"\n",
    "URL_TOP_50 = \"https://yocket.in/universities/masters-in-computer-science-engineering/top-50\"\n",
    "URL_TOP_100 = \"https://yocket.in/universities/masters-in-computer-science-engineering/top-100\"\n",
    "\n",
    "PAGINATION_LIMIT = 10 #assuming at most 10 universities are displayed per page, in reality its closer to 20\n",
    "PAGE_NUMBERS = [i+1 for i in range(PAGINATION_LIMIT)]\n",
    "PAGE_NUMBER_URL_PARAM = \"?page=\""
   ]
  },
  {
   "cell_type": "code",
   "execution_count": 63,
   "metadata": {},
   "outputs": [],
   "source": [
    "page_data_top_25_list = [requests.get(URL_TOP_25+PAGE_NUMBER_URL_PARAM+str(i)) for i in PAGE_NUMBERS]\n",
    "page_data_top_50_list = [requests.get(URL_TOP_50+PAGE_NUMBER_URL_PARAM+str(i)) for i in PAGE_NUMBERS]\n",
    "page_data_top_100_list = [requests.get(URL_TOP_100+PAGE_NUMBER_URL_PARAM+str(i)) for i in PAGE_NUMBERS]"
   ]
  },
  {
   "cell_type": "code",
   "execution_count": 64,
   "metadata": {},
   "outputs": [],
   "source": [
    "soup_list_25 = [BeautifulSoup(data.content) for data in page_data_top_25_list]\n",
    "soup_list_50 = [BeautifulSoup(data.content) for data in page_data_top_50_list]\n",
    "soup_list_100 = [BeautifulSoup(data.content) for data in page_data_top_100_list]"
   ]
  },
  {
   "cell_type": "code",
   "execution_count": null,
   "metadata": {},
   "outputs": [],
   "source": []
  },
  {
   "cell_type": "code",
   "execution_count": 66,
   "metadata": {},
   "outputs": [],
   "source": [
    "def get_uni_name(soup_object):\n",
    "    return [link.find('a', recursive=False).contents[0] for link in soup_object.find_all('span', {'class':'lead'})]\n"
   ]
  },
  {
   "cell_type": "code",
   "execution_count": 67,
   "metadata": {},
   "outputs": [],
   "source": [
    "unis_top_25 = [uni for soup in soup_list_25 for uni in get_uni_name(soup)]\n",
    "unis_top_50 = [uni for soup in soup_list_50 for uni in get_uni_name(soup)]\n",
    "unis_top_100 = [uni for soup in soup_list_100 for uni in get_uni_name(soup)]"
   ]
  },
  {
   "cell_type": "code",
   "execution_count": 69,
   "metadata": {},
   "outputs": [
    {
     "name": "stdout",
     "output_type": "stream",
     "text": [
      "55\n",
      "Arizona State University (ASU)\n",
      "Northeastern University (NEU)\n",
      "Texas A&M University, College Station (TAMU)\n",
      "University of Southern California (USC)\n",
      "Georgia Institute of Technology (GaTech)\n",
      "North Carolina State University, Raleigh (NCSU)\n",
      "University of Texas at Austin (UT Austin)\n",
      "New York University (NYU)\n",
      "Carnegie Mellon University (CMU)\n",
      "Purdue University West Lafayette (Purdue)\n",
      "University of Maryland, College Park (UMCP)\n",
      "University of Florida (UFL)\n",
      "University of California, San Diego (UCSD)\n",
      "Pennsylvania State University (Penn State)\n",
      "University of Minnesota, Twin Cities (UM Twin Cities)\n",
      "University of California, Irvine (UC Irvine)\n",
      "University of Michigan - Ann Arbor (U Mich)\n",
      "University of Illinois at Urbana-Champaign (UIUC)\n",
      "Virginia Tech (Virg. Tech)\n",
      "University of California, Los Angeles (UCLA)\n",
      "Columbia University (Columbia)\n",
      "Iowa State University (Iowa State)\n",
      "Michigan State University (Mich. SU)\n",
      "University of Colorado Boulder (Boulder)\n",
      "University of Wisconsin-Madison (UW Mad)\n",
      "University of Pennsylvania (UPenn)\n",
      "Clemson University (Clemson)\n",
      "Ohio State University (OSU)\n",
      "University of California – Berkeley (UC Berkeley)\n",
      "Cornell University (Cornell)\n",
      "University of California, Davis (UC Davis)\n",
      "Massachusetts Institute of Technology (MIT)\n",
      "Stanford University (Stanford)\n",
      "University of Washington (UW Seattle)\n",
      "Northwestern University (NWU)\n",
      "Boston University (BU)\n",
      "Colorado State University (Col.SU)\n",
      "University of California, Santa Barbara (UCSB)\n",
      "California Institute Of Technology (CalTech)\n",
      "University of Arizona (U.Ariz)\n",
      "University of Pittsburgh (UPitt)\n",
      "Johns Hopkins University (J.Hopkins)\n",
      "Duke University (Duke)\n",
      "Harvard University (Harvard)\n",
      "Lehigh University (Lehigh)\n",
      "University of Virginia (U. Virginia)\n",
      "Case Western Reserve University (CWRU)\n",
      "University of Rochester (U.Rochester)\n",
      "Rice University (Rice)\n",
      "Princeton University (Princeton)\n",
      "Brown University (Brown)\n",
      "Rensselaer Polytechnic Institute (RPI)\n",
      "Yale University (Yale)\n",
      "University of Notre Dame (Notre Dame)\n",
      "Vanderbilt University (Vanderbilt)\n"
     ]
    }
   ],
   "source": [
    "# print(len(unis_top_50))\n",
    "# print(\"\\n\".join(unis_top_50))"
   ]
  },
  {
   "cell_type": "code",
   "execution_count": 74,
   "metadata": {},
   "outputs": [],
   "source": [
    "top_25 = unis_top_25\n",
    "top_26_50 = [uni for uni in unis_top_50 if uni not in unis_top_25]\n",
    "top_51_100 = [uni for uni in unis_top_100 if uni not in unis_top_50]"
   ]
  },
  {
   "cell_type": "code",
   "execution_count": 75,
   "metadata": {},
   "outputs": [
    {
     "data": {
      "text/plain": [
       "['Arizona State University (ASU)',\n",
       " 'Northeastern University (NEU)',\n",
       " 'North Carolina State University, Raleigh (NCSU)',\n",
       " 'New York University (NYU)',\n",
       " 'University of Florida (UFL)',\n",
       " 'University of Minnesota, Twin Cities (UM Twin Cities)',\n",
       " 'University of California, Irvine (UC Irvine)',\n",
       " 'University of Colorado Boulder (Boulder)',\n",
       " 'Clemson University (Clemson)',\n",
       " 'Ohio State University (OSU)',\n",
       " 'University of Washington (UW Seattle)',\n",
       " 'Boston University (BU)',\n",
       " 'University of Arizona (U.Ariz)',\n",
       " 'University of Pittsburgh (UPitt)',\n",
       " 'Duke University (Duke)',\n",
       " 'Lehigh University (Lehigh)',\n",
       " 'University of Virginia (U. Virginia)',\n",
       " 'Case Western Reserve University (CWRU)',\n",
       " 'University of Rochester (U.Rochester)',\n",
       " 'Rice University (Rice)',\n",
       " 'Brown University (Brown)',\n",
       " 'Rensselaer Polytechnic Institute (RPI)',\n",
       " 'Yale University (Yale)',\n",
       " 'University of Notre Dame (Notre Dame)',\n",
       " 'Vanderbilt University (Vanderbilt)']"
      ]
     },
     "execution_count": 75,
     "metadata": {},
     "output_type": "execute_result"
    }
   ],
   "source": []
  },
  {
   "cell_type": "code",
   "execution_count": 76,
   "metadata": {},
   "outputs": [
    {
     "data": {
      "text/plain": [
       "['University of Texas at Dallas (UTD)',\n",
       " 'University of Texas at Arlington (UT Arlington)',\n",
       " 'University at Buffalo SUNY (SUNY Buffalo)',\n",
       " 'University of Illinois at Chicago (UIC)',\n",
       " 'Illinois Institute of Technology (IIT Chicago)',\n",
       " 'Syracuse University (Syracuse)',\n",
       " 'Rochester Institute of Technology (RIT)',\n",
       " 'State University of New York at Stony Brook (SUNY-SB)',\n",
       " 'University of Houston (U. Houston)',\n",
       " 'University of Massachusetts Amherst (Umass Am)',\n",
       " 'University of Cincinnati (U.Cincin)',\n",
       " 'Stevens Institute of Technology (Stevens IT)',\n",
       " 'University of South Florida (USF)',\n",
       " 'University of Utah (Utah)',\n",
       " 'Auburn University (Auburn)',\n",
       " 'Texas Tech University (TTU Whitcre)',\n",
       " 'University of California, Riverside (UC Riverside)',\n",
       " 'University of North Carolina at Chapel Hill (UNC-Chapel)',\n",
       " 'George Washington University (GWU)',\n",
       " 'University of California, Santa Cruz (UCSC)',\n",
       " 'Oregon State University (Oregon SU)',\n",
       " 'University of Central Florida (UCF)',\n",
       " 'Kansas State University (Kansas SU)',\n",
       " 'Missouri University of Science and Technology (MUST)',\n",
       " 'Worcester Polytechnic Institute (WPI)',\n",
       " 'Drexel University (Drexel)',\n",
       " 'University of Connecticut (UConn)',\n",
       " 'University of Iowa (U of Iowa)',\n",
       " 'University of Alabama, Huntsville (UA Huntsvi.)',\n",
       " 'University of Dayton (U of Dayton)',\n",
       " 'Wichita State University (Wichita)',\n",
       " 'University of Oklahoma (U. Okhla)',\n",
       " 'University of Kansas (U. Kansas)',\n",
       " 'Washington State University (Wshgton SU)',\n",
       " 'University of Missouri, Columbia (UM Columb)',\n",
       " 'Dartmouth College (Dartmouth)',\n",
       " 'University of South Carolina (U. South Car)',\n",
       " 'Washington University in St. Louis (WUSL)',\n",
       " 'University of Delaware (U.Del)',\n",
       " 'University of Tennessee at Knoxville (U. Tenn Knx)',\n",
       " 'Louisiana State University and A&M College (LSU AMC)',\n",
       " 'Mississippi State University (Missi. SU)',\n",
       " 'University of Nebraska, Lincoln (UN Lincoln)',\n",
       " 'Colorado School of Mines (CSM Mines)',\n",
       " 'The City College of New York, CUNY (CCNY)',\n",
       " 'Tufts University (Tufts)',\n",
       " 'University of New Mexico (UNM)',\n",
       " 'University of Kentucky (U. Kentucky)']"
      ]
     },
     "execution_count": 76,
     "metadata": {},
     "output_type": "execute_result"
    }
   ],
   "source": []
  },
  {
   "cell_type": "code",
   "execution_count": null,
   "metadata": {},
   "outputs": [],
   "source": []
  }
 ],
 "metadata": {
  "kernelspec": {
   "display_name": "Python 3",
   "language": "python",
   "name": "python3"
  },
  "language_info": {
   "codemirror_mode": {
    "name": "ipython",
    "version": 3
   },
   "file_extension": ".py",
   "mimetype": "text/x-python",
   "name": "python",
   "nbconvert_exporter": "python",
   "pygments_lexer": "ipython3",
   "version": "3.6.6"
  }
 },
 "nbformat": 4,
 "nbformat_minor": 2
}
